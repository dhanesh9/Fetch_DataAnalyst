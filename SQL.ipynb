{
 "cells": [
  {
   "cell_type": "code",
   "execution_count": 1,
   "id": "e7926dac-a268-443e-998f-da100381bcb9",
   "metadata": {},
   "outputs": [],
   "source": [
    "import pandas as pd\n",
    "from pandasql import sqldf\n",
    "from datetime import datetime, timedelta"
   ]
  },
  {
   "cell_type": "code",
   "execution_count": 2,
   "id": "f3bc2aa6-489c-44c4-9d40-17e88b318932",
   "metadata": {},
   "outputs": [],
   "source": [
    "users = pd.read_csv(\"Updated_Datasets/USER_CLEANED.csv\")\n",
    "transactions = pd.read_csv(\"Updated_Datasets/TRANSACTION_CLEANED.csv\")\n",
    "products = pd.read_csv(\"Updated_Datasets/PRODUCTS_CLEANED.csv\")"
   ]
  },
  {
   "cell_type": "code",
   "execution_count": 3,
   "id": "6d0aa089-6b69-4a78-bf97-3269adde06e3",
   "metadata": {},
   "outputs": [],
   "source": [
    "# Function to run SQL queries on pandas DataFrames\n",
    "def pysqldf(q):\n",
    "    return sqldf(q, globals())"
   ]
  },
  {
   "cell_type": "markdown",
   "id": "d8e30b2d-0169-4bcb-85bf-95386b38baec",
   "metadata": {},
   "source": [
    "# What are the top 5 brands by receipts scanned among users 21 and over?"
   ]
  },
  {
   "cell_type": "code",
   "execution_count": 4,
   "id": "b6d0f852-5f12-4ddc-b4f9-9abc127654bb",
   "metadata": {},
   "outputs": [
    {
     "name": "stdout",
     "output_type": "stream",
     "text": [
      "             BRAND  receipt_count\n",
      "0      NERDS CANDY              3\n",
      "1             DOVE              3\n",
      "2          TRIDENT              2\n",
      "3  SOUR PATCH KIDS              2\n",
      "4           MEIJER              2\n"
     ]
    }
   ],
   "source": [
    "# SQL query to find the top 5 brands by receipts scanned among users 21 and over\n",
    "query = \"\"\"\n",
    "SELECT p.BRAND, COUNT(DISTINCT t.RECEIPT_ID) AS receipt_count\n",
    "FROM users u\n",
    "JOIN transactions t ON u.ID = t.USER_ID\n",
    "JOIN products p ON t.BARCODE = p.BARCODE\n",
    "WHERE u.AGE >= 21 \n",
    "  AND p.BRAND IS NOT NULL \n",
    "  AND p.BRAND <> ''\n",
    "GROUP BY p.BRAND\n",
    "ORDER BY receipt_count DESC\n",
    "LIMIT 5;\n",
    "\"\"\"\n",
    "\n",
    "# Execute the query\n",
    "top_5_brands_by_receipts = pysqldf(query)\n",
    "print(top_5_brands_by_receipts)"
   ]
  },
  {
   "cell_type": "markdown",
   "id": "567d7508-5879-4f09-9987-1acedc1cff1d",
   "metadata": {},
   "source": [
    "# What are the top 5 brands by sales among users that have had their account for at least six months?"
   ]
  },
  {
   "cell_type": "code",
   "execution_count": 5,
   "id": "391691c6-2f76-4ab5-a51d-548385f89518",
   "metadata": {},
   "outputs": [
    {
     "name": "stdout",
     "output_type": "stream",
     "text": [
      "         BRAND  total_sales\n",
      "0          CVS        72.00\n",
      "1         DOVE        30.91\n",
      "2      TRIDENT        23.36\n",
      "3  COORS LIGHT        17.48\n",
      "4     TRESEMMÉ        14.58\n"
     ]
    }
   ],
   "source": [
    "# SQL query to find the top 5 brands by sales among users with accounts at least six months old\n",
    "query = \"\"\"\n",
    "SELECT p.BRAND, SUM(t.FINAL_SALE) AS total_sales\n",
    "FROM users u\n",
    "JOIN transactions t ON u.ID = t.USER_ID\n",
    "JOIN products p ON t.BARCODE = p.BARCODE\n",
    "WHERE julianday('now') - julianday(u.CREATED_DATE) >= 180\n",
    "GROUP BY p.BRAND\n",
    "ORDER BY total_sales DESC\n",
    "LIMIT 5;\n",
    "\"\"\"\n",
    "# Execute the query\n",
    "top_5_brands_by_sales = pysqldf(query)\n",
    "print(top_5_brands_by_sales)"
   ]
  },
  {
   "cell_type": "code",
   "execution_count": 10,
   "id": "f948f249-8d44-4d9d-acd3-b133947a431c",
   "metadata": {},
   "outputs": [
    {
     "name": "stdout",
     "output_type": "stream",
     "text": [
      "Users columns: ['ID', 'CREATED_DATE', 'BIRTH_DATE', 'STATE', 'LANGUAGE', 'GENDER', 'ACCOUNT_AGE', 'AGE', 'CREATED_YEAR', 'CREATED_MONTH', 'CREATED_DAYOFWEEK']\n"
     ]
    }
   ],
   "source": [
    "print(\"Users columns:\", users.columns.tolist())"
   ]
  },
  {
   "cell_type": "markdown",
   "id": "fac0de8a-b4bc-4a10-a273-0d6ba481c275",
   "metadata": {},
   "source": [
    "# At what percent has Fetch grown year over year?"
   ]
  },
  {
   "cell_type": "code",
   "execution_count": 8,
   "id": "4130f257-855c-4360-8c75-00cc7e1ee429",
   "metadata": {},
   "outputs": [
    {
     "name": "stdout",
     "output_type": "stream",
     "text": [
      "    year  current_year_users  previous_year_users  yoy_growth_percent\n",
      "0   2014                  30                    0                 NaN\n",
      "1   2015                  51                   30           70.000000\n",
      "2   2016                  70                   51           37.254902\n",
      "3   2017                 644                   70          820.000000\n",
      "4   2018                2168                  644          236.645963\n",
      "5   2019                7093                 2168          227.167897\n",
      "6   2020               16883                 7093          138.023403\n",
      "7   2021               19159                16883           13.481016\n",
      "8   2022               26807                19159           39.918576\n",
      "9   2023               15464                26807          -42.313575\n",
      "10  2024               11631                15464          -24.786601\n"
     ]
    }
   ],
   "source": [
    "# SQL query using the 'CREATED_YEAR' column from USERS CLEANED dataset for Year on Year Growth\n",
    "query = \"\"\"\n",
    "SELECT \n",
    "    u1.CREATED_YEAR AS year,\n",
    "    COUNT(u1.ID) AS current_year_users,\n",
    "    (SELECT COUNT(u2.ID)\n",
    "     FROM users u2\n",
    "     WHERE u2.CREATED_YEAR = u1.CREATED_YEAR - 1) AS previous_year_users,\n",
    "    (CAST(COUNT(u1.ID) AS FLOAT) - (SELECT COUNT(u2.ID)\n",
    "                                    FROM users u2\n",
    "                                    WHERE u2.CREATED_YEAR = u1.CREATED_YEAR - 1)) \n",
    "    / NULLIF((SELECT COUNT(u2.ID)\n",
    "              FROM users u2\n",
    "              WHERE u2.CREATED_YEAR = u1.CREATED_YEAR - 1), 0) * 100 AS yoy_growth_percent\n",
    "FROM users u1\n",
    "GROUP BY u1.CREATED_YEAR\n",
    "ORDER BY u1.CREATED_YEAR;\n",
    "\"\"\"\n",
    "\n",
    "# Execute the query\n",
    "yoy_growth = pysqldf(query)\n",
    "print(yoy_growth)"
   ]
  },
  {
   "cell_type": "code",
   "execution_count": 9,
   "id": "36d65666-9618-4530-b66a-64becb092a04",
   "metadata": {},
   "outputs": [
    {
     "name": "stdout",
     "output_type": "stream",
     "text": [
      "      BRAND  Total_Sales\n",
      "0  TOSTITOS        181.3\n"
     ]
    }
   ],
   "source": [
    "# SQL query to find the leading brand in the \"Dips & Salsa\" category\n",
    "query = \"\"\"\n",
    "SELECT p.BRAND, SUM(t.FINAL_SALE) AS Total_Sales\n",
    "FROM transactions t\n",
    "JOIN products p ON t.BARCODE = p.BARCODE\n",
    "WHERE p.CATEGORY_1 = 'Dips & Salsa' OR p.CATEGORY_2 = 'Dips & Salsa' OR\n",
    "      p.CATEGORY_3 = 'Dips & Salsa' OR p.CATEGORY_4 = 'Dips & Salsa'\n",
    "GROUP BY p.BRAND\n",
    "ORDER BY Total_Sales DESC\n",
    "LIMIT 1;\n",
    "\"\"\"\n",
    "\n",
    "# Execute the query\n",
    "leading_brand_dips_salsa = pysqldf(query)\n",
    "print(leading_brand_dips_salsa)"
   ]
  },
  {
   "cell_type": "code",
   "execution_count": null,
   "id": "b8505b20-699f-4e07-9491-c1565ff6a82e",
   "metadata": {},
   "outputs": [],
   "source": []
  }
 ],
 "metadata": {
  "kernelspec": {
   "display_name": "Python 3 (ipykernel)",
   "language": "python",
   "name": "python3"
  },
  "language_info": {
   "codemirror_mode": {
    "name": "ipython",
    "version": 3
   },
   "file_extension": ".py",
   "mimetype": "text/x-python",
   "name": "python",
   "nbconvert_exporter": "python",
   "pygments_lexer": "ipython3",
   "version": "3.12.6"
  }
 },
 "nbformat": 4,
 "nbformat_minor": 5
}
