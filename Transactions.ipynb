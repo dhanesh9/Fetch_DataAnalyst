{
 "cells": [
  {
   "cell_type": "code",
   "execution_count": 1,
   "id": "d36d2a86-3eac-4722-aee5-d997905010b4",
   "metadata": {},
   "outputs": [],
   "source": [
    "import pandas as pd\n",
    "import numpy as np"
   ]
  },
  {
   "cell_type": "code",
   "execution_count": 2,
   "id": "98d52244-e8c5-4663-9f75-cae1a6effa27",
   "metadata": {},
   "outputs": [
    {
     "name": "stdout",
     "output_type": "stream",
     "text": [
      "Dataset shape: (50000, 8)\n"
     ]
    }
   ],
   "source": [
    "df = pd.read_csv(\"TRANSACTION_TAKEHOME.csv\")\n",
    "print(\"Dataset shape:\", df.shape)"
   ]
  },
  {
   "cell_type": "code",
   "execution_count": 3,
   "id": "327f77e5-5ee7-4e47-a336-dbe543eedec5",
   "metadata": {},
   "outputs": [
    {
     "data": {
      "text/html": [
       "<div>\n",
       "<style scoped>\n",
       "    .dataframe tbody tr th:only-of-type {\n",
       "        vertical-align: middle;\n",
       "    }\n",
       "\n",
       "    .dataframe tbody tr th {\n",
       "        vertical-align: top;\n",
       "    }\n",
       "\n",
       "    .dataframe thead th {\n",
       "        text-align: right;\n",
       "    }\n",
       "</style>\n",
       "<table border=\"1\" class=\"dataframe\">\n",
       "  <thead>\n",
       "    <tr style=\"text-align: right;\">\n",
       "      <th></th>\n",
       "      <th>RECEIPT_ID</th>\n",
       "      <th>PURCHASE_DATE</th>\n",
       "      <th>SCAN_DATE</th>\n",
       "      <th>STORE_NAME</th>\n",
       "      <th>USER_ID</th>\n",
       "      <th>BARCODE</th>\n",
       "      <th>FINAL_QUANTITY</th>\n",
       "      <th>FINAL_SALE</th>\n",
       "    </tr>\n",
       "  </thead>\n",
       "  <tbody>\n",
       "    <tr>\n",
       "      <th>0</th>\n",
       "      <td>0000d256-4041-4a3e-adc4-5623fb6e0c99</td>\n",
       "      <td>2024-08-21</td>\n",
       "      <td>2024-08-21 14:19:06.539 Z</td>\n",
       "      <td>WALMART</td>\n",
       "      <td>63b73a7f3d310dceeabd4758</td>\n",
       "      <td>1.530001e+10</td>\n",
       "      <td>1.00</td>\n",
       "      <td></td>\n",
       "    </tr>\n",
       "    <tr>\n",
       "      <th>1</th>\n",
       "      <td>0001455d-7a92-4a7b-a1d2-c747af1c8fd3</td>\n",
       "      <td>2024-07-20</td>\n",
       "      <td>2024-07-20 09:50:24.206 Z</td>\n",
       "      <td>ALDI</td>\n",
       "      <td>62c08877baa38d1a1f6c211a</td>\n",
       "      <td>NaN</td>\n",
       "      <td>zero</td>\n",
       "      <td>1.49</td>\n",
       "    </tr>\n",
       "    <tr>\n",
       "      <th>2</th>\n",
       "      <td>00017e0a-7851-42fb-bfab-0baa96e23586</td>\n",
       "      <td>2024-08-18</td>\n",
       "      <td>2024-08-19 15:38:56.813 Z</td>\n",
       "      <td>WALMART</td>\n",
       "      <td>60842f207ac8b7729e472020</td>\n",
       "      <td>7.874223e+10</td>\n",
       "      <td>1.00</td>\n",
       "      <td></td>\n",
       "    </tr>\n",
       "    <tr>\n",
       "      <th>3</th>\n",
       "      <td>000239aa-3478-453d-801e-66a82e39c8af</td>\n",
       "      <td>2024-06-18</td>\n",
       "      <td>2024-06-19 11:03:37.468 Z</td>\n",
       "      <td>FOOD LION</td>\n",
       "      <td>63fcd7cea4f8442c3386b589</td>\n",
       "      <td>7.833997e+11</td>\n",
       "      <td>zero</td>\n",
       "      <td>3.49</td>\n",
       "    </tr>\n",
       "    <tr>\n",
       "      <th>4</th>\n",
       "      <td>00026b4c-dfe8-49dd-b026-4c2f0fd5c6a1</td>\n",
       "      <td>2024-07-04</td>\n",
       "      <td>2024-07-05 15:56:43.549 Z</td>\n",
       "      <td>RANDALLS</td>\n",
       "      <td>6193231ae9b3d75037b0f928</td>\n",
       "      <td>4.790050e+10</td>\n",
       "      <td>1.00</td>\n",
       "      <td></td>\n",
       "    </tr>\n",
       "  </tbody>\n",
       "</table>\n",
       "</div>"
      ],
      "text/plain": [
       "                             RECEIPT_ID PURCHASE_DATE  \\\n",
       "0  0000d256-4041-4a3e-adc4-5623fb6e0c99    2024-08-21   \n",
       "1  0001455d-7a92-4a7b-a1d2-c747af1c8fd3    2024-07-20   \n",
       "2  00017e0a-7851-42fb-bfab-0baa96e23586    2024-08-18   \n",
       "3  000239aa-3478-453d-801e-66a82e39c8af    2024-06-18   \n",
       "4  00026b4c-dfe8-49dd-b026-4c2f0fd5c6a1    2024-07-04   \n",
       "\n",
       "                   SCAN_DATE STORE_NAME                   USER_ID  \\\n",
       "0  2024-08-21 14:19:06.539 Z    WALMART  63b73a7f3d310dceeabd4758   \n",
       "1  2024-07-20 09:50:24.206 Z       ALDI  62c08877baa38d1a1f6c211a   \n",
       "2  2024-08-19 15:38:56.813 Z    WALMART  60842f207ac8b7729e472020   \n",
       "3  2024-06-19 11:03:37.468 Z  FOOD LION  63fcd7cea4f8442c3386b589   \n",
       "4  2024-07-05 15:56:43.549 Z   RANDALLS  6193231ae9b3d75037b0f928   \n",
       "\n",
       "        BARCODE FINAL_QUANTITY FINAL_SALE  \n",
       "0  1.530001e+10           1.00             \n",
       "1           NaN           zero       1.49  \n",
       "2  7.874223e+10           1.00             \n",
       "3  7.833997e+11           zero       3.49  \n",
       "4  4.790050e+10           1.00             "
      ]
     },
     "execution_count": 3,
     "metadata": {},
     "output_type": "execute_result"
    }
   ],
   "source": [
    "df.head(5)"
   ]
  },
  {
   "cell_type": "markdown",
   "id": "91183fad-10b2-4e95-bffa-786f1f22093a",
   "metadata": {},
   "source": [
    "## Initial Observations\n",
    "\n",
    "- **Columns**: `RECEIPT_ID`, `PURCHASE_DATE`, `SCAN_DATE`, `STORE_NAME`, `USER_ID`, `BARCODE`, `FINAL_QUANTITY`, `FINAL_SALE`\n",
    "- **Potential Issues**:\n",
    "  - Some rows have a blank `FINAL_SALE`.\n",
    "  - Some rows have `FINAL_QUANTITY` as `\"zero\"`.\n",
    "  - The `BARCODE` field has missing values (`NaN`)."
   ]
  },
  {
   "cell_type": "code",
   "execution_count": 4,
   "id": "539dcc92-1ca5-43bc-a205-3f37d8d6e7ad",
   "metadata": {},
   "outputs": [
    {
     "name": "stdout",
     "output_type": "stream",
     "text": [
      "\n",
      "Dataset info:\n",
      "<class 'pandas.core.frame.DataFrame'>\n",
      "RangeIndex: 50000 entries, 0 to 49999\n",
      "Data columns (total 8 columns):\n",
      " #   Column          Non-Null Count  Dtype  \n",
      "---  ------          --------------  -----  \n",
      " 0   RECEIPT_ID      50000 non-null  object \n",
      " 1   PURCHASE_DATE   50000 non-null  object \n",
      " 2   SCAN_DATE       50000 non-null  object \n",
      " 3   STORE_NAME      50000 non-null  object \n",
      " 4   USER_ID         50000 non-null  object \n",
      " 5   BARCODE         44238 non-null  float64\n",
      " 6   FINAL_QUANTITY  50000 non-null  object \n",
      " 7   FINAL_SALE      50000 non-null  object \n",
      "dtypes: float64(1), object(7)\n",
      "memory usage: 3.1+ MB\n"
     ]
    }
   ],
   "source": [
    "print(\"\\nDataset info:\")\n",
    "df.info()"
   ]
  },
  {
   "cell_type": "code",
   "execution_count": 5,
   "id": "9ecb29c7-2ef7-4a77-9bb5-4718742f12f1",
   "metadata": {},
   "outputs": [
    {
     "name": "stdout",
     "output_type": "stream",
     "text": [
      "Missing values per column:\n",
      "RECEIPT_ID           0\n",
      "PURCHASE_DATE        0\n",
      "SCAN_DATE            0\n",
      "STORE_NAME           0\n",
      "USER_ID              0\n",
      "BARCODE           5762\n",
      "FINAL_QUANTITY       0\n",
      "FINAL_SALE           0\n",
      "dtype: int64\n",
      "\n",
      "Total number of rows: 50000\n"
     ]
    }
   ],
   "source": [
    "# Counting missing values in each column\n",
    "missing_counts = df.isnull().sum()\n",
    "print(\"Missing values per column:\")\n",
    "print(missing_counts)\n",
    "\n",
    "# Count total rows\n",
    "total_rows = len(df)\n",
    "print(\"\\nTotal number of rows:\", total_rows)"
   ]
  },
  {
   "cell_type": "markdown",
   "id": "92ea6b5e-f7cf-40f3-a523-0cd86164f607",
   "metadata": {},
   "source": [
    "### ANALYZING MISSING BARCODES"
   ]
  },
  {
   "cell_type": "code",
   "execution_count": 6,
   "id": "296e2b86-ae35-49a1-8395-bc26487fa35a",
   "metadata": {},
   "outputs": [
    {
     "data": {
      "text/html": [
       "<div>\n",
       "<style scoped>\n",
       "    .dataframe tbody tr th:only-of-type {\n",
       "        vertical-align: middle;\n",
       "    }\n",
       "\n",
       "    .dataframe tbody tr th {\n",
       "        vertical-align: top;\n",
       "    }\n",
       "\n",
       "    .dataframe thead th {\n",
       "        text-align: right;\n",
       "    }\n",
       "</style>\n",
       "<table border=\"1\" class=\"dataframe\">\n",
       "  <thead>\n",
       "    <tr style=\"text-align: right;\">\n",
       "      <th></th>\n",
       "      <th>STORE_NAME</th>\n",
       "      <th>Count of Receipts</th>\n",
       "    </tr>\n",
       "  </thead>\n",
       "  <tbody>\n",
       "    <tr>\n",
       "      <th>3</th>\n",
       "      <td>ALDI</td>\n",
       "      <td>2338</td>\n",
       "    </tr>\n",
       "    <tr>\n",
       "      <th>45</th>\n",
       "      <td>CVS</td>\n",
       "      <td>606</td>\n",
       "    </tr>\n",
       "    <tr>\n",
       "      <th>53</th>\n",
       "      <td>DOLLAR TREE STORES INC</td>\n",
       "      <td>230</td>\n",
       "    </tr>\n",
       "    <tr>\n",
       "      <th>107</th>\n",
       "      <td>KROGER</td>\n",
       "      <td>228</td>\n",
       "    </tr>\n",
       "    <tr>\n",
       "      <th>200</th>\n",
       "      <td>WALGREENS</td>\n",
       "      <td>226</td>\n",
       "    </tr>\n",
       "  </tbody>\n",
       "</table>\n",
       "</div>"
      ],
      "text/plain": [
       "                 STORE_NAME  Count of Receipts\n",
       "3                      ALDI               2338\n",
       "45                      CVS                606\n",
       "53   DOLLAR TREE STORES INC                230\n",
       "107                  KROGER                228\n",
       "200               WALGREENS                226"
      ]
     },
     "execution_count": 6,
     "metadata": {},
     "output_type": "execute_result"
    }
   ],
   "source": [
    "# Group by STORE_NAME where BARCODE is null\n",
    "missing_barcode_stores = (\n",
    "    df[df[\"BARCODE\"].isnull()]\n",
    "    .groupby(\"STORE_NAME\")[\"RECEIPT_ID\"]\n",
    "    .count()\n",
    "    .reset_index(name=\"Count of Receipts\")\n",
    "    .sort_values(by=\"Count of Receipts\", ascending=False)\n",
    ")\n",
    "missing_barcode_stores.head(5)"
   ]
  },
  {
   "cell_type": "markdown",
   "id": "e4a7fd8f-c2db-4f81-9e81-606cbf643b90",
   "metadata": {},
   "source": [
    "### Observation\n",
    "- A significant portion of missing barcodes might be from specific stores (e.g., ALDI).\n",
    "- This can affect brand-level or product-level analysis if not addressed."
   ]
  },
  {
   "cell_type": "code",
   "execution_count": 7,
   "id": "95006a3b-1452-4c16-a515-6f5dda6f85f6",
   "metadata": {},
   "outputs": [
    {
     "name": "stdout",
     "output_type": "stream",
     "text": [
      "Number of unique RECEIPT_IDs: 24440\n",
      "Total number of rows: 50000\n",
      "\n",
      "Unique (RECEIPT_ID, BARCODE) combos: 24795\n"
     ]
    }
   ],
   "source": [
    "# Checking if data is unique at RECEIPT_ID level\n",
    "unique_receipt_ids = df[\"RECEIPT_ID\"].nunique()\n",
    "print(\"Number of unique RECEIPT_IDs:\", unique_receipt_ids)\n",
    "print(\"Total number of rows:\", total_rows)\n",
    "\n",
    "# Check uniqueness at (RECEIPT_ID, BARCODE) level\n",
    "unique_rows = df.drop_duplicates(subset=[\"RECEIPT_ID\", \"BARCODE\"])\n",
    "unique_combos_count = len(unique_rows)\n",
    "print(\"\\nUnique (RECEIPT_ID, BARCODE) combos:\", unique_combos_count)\n",
    "\n",
    "# If unique_combos_count < total_rows, it means duplicates exist"
   ]
  },
  {
   "cell_type": "code",
   "execution_count": 8,
   "id": "93e83673-70b2-4f85-b2a7-090203587428",
   "metadata": {},
   "outputs": [
    {
     "name": "stdout",
     "output_type": "stream",
     "text": [
      "Unique values in FINAL_SALE: [' ' '1.49' '3.49' ... '11.02' '20.17' '42.38']\n",
      "\n",
      "Count of blank FINAL_SALE values: 0\n"
     ]
    }
   ],
   "source": [
    "# Checking unique values in FINAL_SALE\n",
    "unique_final_sale = df[\"FINAL_SALE\"].unique()\n",
    "print(\"Unique values in FINAL_SALE:\", unique_final_sale)\n",
    "\n",
    "# Count how many rows have actually blank FINAL_SALE (null or empty string)\n",
    "blank_final_sale_count = df[\"FINAL_SALE\"].isnull().sum() + (df[\"FINAL_SALE\"] == \"\").sum()\n",
    "print(\"\\nCount of blank FINAL_SALE values:\", blank_final_sale_count)"
   ]
  },
  {
   "cell_type": "markdown",
   "id": "2f1bd11b-c06c-43d5-863d-9bbf9c4fdc59",
   "metadata": {},
   "source": [
    "### Findings\n",
    "- The `BARCODE` column has notable missing values (e.g., ~5,762).\n",
    "- `FINAL_QUANTITY` and `FINAL_SALE` are stored as `object`, indicating they contain strings like `\"zero\"` or `\" \"`.\n",
    "- No other columns show null values, but some might contain placeholders (like a single space) instead of true nulls."
   ]
  },
  {
   "cell_type": "code",
   "execution_count": 9,
   "id": "efe27123-ba9b-43b3-b5e0-fdcb7e6d30f8",
   "metadata": {},
   "outputs": [
    {
     "name": "stdout",
     "output_type": "stream",
     "text": [
      "Missing barcode values after imputation: 0\n"
     ]
    }
   ],
   "source": [
    "# # Replacing blank values in Barcode column with a string value\n",
    "df['BARCODE'] = df['BARCODE'].fillna(\"NO_BARCODE_AVAILABLE\")\n",
    "print(\"Missing barcode values after imputation:\", df['BARCODE'].isna().sum())"
   ]
  },
  {
   "cell_type": "markdown",
   "id": "e898d9c7-2697-44a5-8251-728bb9e29c73",
   "metadata": {},
   "source": [
    "This shows that there is now no blank values in BARCODE column. And this is important because BARCODE is a foreign key and many databases don't allow NULL values in foreign columns, which could lead to errors when inserting this data into a database."
   ]
  },
  {
   "cell_type": "code",
   "execution_count": 10,
   "id": "adcf9e07-406f-4d86-929d-3f5f416765ef",
   "metadata": {},
   "outputs": [
    {
     "name": "stdout",
     "output_type": "stream",
     "text": [
      "Number of rows with only whitespace in FINAL_SALE: 12500\n"
     ]
    }
   ],
   "source": [
    "# Finding number of rows in final sale with a blank\n",
    "blank_space_count = (df[\"FINAL_SALE\"].str.strip() == \"\").sum()\n",
    "print(\"Number of rows with only whitespace in FINAL_SALE:\", blank_space_count)"
   ]
  },
  {
   "cell_type": "code",
   "execution_count": 11,
   "id": "67d001eb-11e9-422b-8976-c92729b83989",
   "metadata": {},
   "outputs": [
    {
     "name": "stdout",
     "output_type": "stream",
     "text": [
      "Distribution of the number of duplicates per (RECEIPT_ID, BARCODE):\n",
      "count\n",
      "2     24615\n",
      "4       163\n",
      "6        11\n",
      "8         5\n",
      "12        1\n",
      "Name: count, dtype: int64\n"
     ]
    }
   ],
   "source": [
    "# Counting the size of each group\n",
    "group_sizes = df.groupby([\"RECEIPT_ID\", \"BARCODE\"]).size().reset_index(name=\"count\")\n",
    "\n",
    "print(\"Distribution of the number of duplicates per (RECEIPT_ID, BARCODE):\")\n",
    "print(group_sizes[\"count\"].value_counts().sort_index())\n",
    "\n",
    "# This shows how many groups have 1 row, 2 rows, 3 rows, etc.\n",
    "# 2 is by far the most common, that suggests the \"pair\" scenario."
   ]
  },
  {
   "cell_type": "markdown",
   "id": "392dd499-bdae-40c8-8b13-3bdbee437252",
   "metadata": {},
   "source": [
    "##### This shows how many groups have 1 row, 2 rows, 3 rows, etc.\n",
    "##### 2 is by far the most common, that suggests the \"pair\" scenario."
   ]
  },
  {
   "cell_type": "code",
   "execution_count": 12,
   "id": "5529c92e-abeb-45bb-9b65-51e7837568d8",
   "metadata": {},
   "outputs": [],
   "source": [
    "# For each (RECEIPT_ID, BARCODE) group, let's check the number of unique values for key columns\n",
    "check_cols = [\"STORE_NAME\", \"USER_ID\", \"PURCHASE_DATE\", \"SCAN_DATE\", \"FINAL_QUANTITY\", \"FINAL_SALE\"]\n",
    "agg_dict = {col: lambda x: x.nunique(dropna=False) for col in check_cols}\n",
    "\n",
    "duplicate_analysis = (\n",
    "    df.groupby([\"RECEIPT_ID\", \"BARCODE\"])\n",
    "      .agg(agg_dict)\n",
    "      .reset_index()\n",
    ")"
   ]
  },
  {
   "cell_type": "code",
   "execution_count": 13,
   "id": "b858b9bf-d7ff-403c-8c56-4a25e83ac355",
   "metadata": {},
   "outputs": [
    {
     "name": "stdout",
     "output_type": "stream",
     "text": [
      "Groups with more than one unique 'STORE_NAME': 0\n",
      "Groups with more than one unique 'USER_ID': 0\n",
      "Groups with more than one unique 'PURCHASE_DATE': 0\n",
      "Groups with more than one unique 'SCAN_DATE': 0\n",
      "Groups with more than one unique 'FINAL_QUANTITY': 12489\n",
      "Groups with more than one unique 'FINAL_SALE': 12486\n"
     ]
    }
   ],
   "source": [
    "# Now we can see how many groups have, for example, more than 1 unique value for other columns.\n",
    "for col in check_cols:\n",
    "    num_mismatched = (duplicate_analysis[col] > 1).sum()\n",
    "    print(f\"Groups with more than one unique '{col}': {num_mismatched}\")"
   ]
  },
  {
   "cell_type": "code",
   "execution_count": 14,
   "id": "ff966456-512a-42ff-8a23-3969ec84e8ae",
   "metadata": {},
   "outputs": [
    {
     "name": "stdout",
     "output_type": "stream",
     "text": [
      "Distribution of the number of unique FINAL_SALE values:\n",
      "unique_final_sale_count\n",
      "1    12309\n",
      "2    12433\n",
      "3       50\n",
      "4        3\n",
      "Name: count, dtype: int64\n"
     ]
    }
   ],
   "source": [
    "# Now let's see how many unique FINAL_SALE values each group has\n",
    "sale_unique_count = (\n",
    "    df.groupby([\"RECEIPT_ID\", \"BARCODE\"])[\"FINAL_SALE\"]\n",
    "      .nunique(dropna=False)\n",
    "      .reset_index(name=\"unique_final_sale_count\")\n",
    ")\n",
    "\n",
    "print(\"Distribution of the number of unique FINAL_SALE values:\")\n",
    "print(sale_unique_count[\"unique_final_sale_count\"].value_counts().sort_index())"
   ]
  },
  {
   "cell_type": "markdown",
   "id": "762d62c9-7bb6-4381-afca-3d160608f85d",
   "metadata": {},
   "source": [
    "## What the Distributions Mean\n",
    "\n",
    "### Unique Final Sale Values (`unique_final_sale_count`)\n",
    "\n",
    "- **1 unique value**  \n",
    "  For that ({RECEIPT_ID}, {BARCODE}) group, **all rows** share the same `FINAL_SALE`.\n",
    "  - **Example**: A group has 2 rows, but both rows have `FINAL_SALE = \"3.99\"`. That’s just 1 unique final sale value (i.e., `\"3.99\"`).\n",
    "  - Another possibility is the group has only **1 row** in total, so naturally there’s only one final sale value.\n",
    "\n",
    "- **2 unique values**  \n",
    "  This typically indicates duplicates. One row might have a blank or space-only `FINAL_SALE`, and the other row has a numeric sale amount. Or they could have two different numeric amounts.\n",
    "  - **Example**:  \n",
    "    - Row 1: `FINAL_SALE = \" \"` (blank)  \n",
    "    - Row 2: `FINAL_SALE = \"2.49\"`  \n",
    "    That yields 2 unique final sale values in total.\n",
    "\n",
    "- **3 or 4 unique values**  \n",
    "  These are more unusual. It means the group has **3+ rows**, each with different `FINAL_SALE` values, or a mix of numeric and blank placeholders.\n",
    "  - **Example**:  \n",
    "    - Row 1: `\" \"`  \n",
    "    - Row 2: `\"3.99\"`  \n",
    "    - Row 3: `\"5.49\"`  \n",
    "    => 3 unique final sale values.\n",
    "\n",
    "## Similarly we can find for FINAL_QUANTITY as well "
   ]
  },
  {
   "cell_type": "code",
   "execution_count": 15,
   "id": "fc4583cf-cb89-4b1e-97ea-5902dd0b39b5",
   "metadata": {},
   "outputs": [
    {
     "name": "stdout",
     "output_type": "stream",
     "text": [
      "Distribution of the number of unique FINAL_QUANTITY values:\n",
      "unique_final_quantity_count\n",
      "1    12306\n",
      "2    12486\n",
      "3        3\n",
      "Name: count, dtype: int64\n"
     ]
    }
   ],
   "source": [
    "# Let's also see how many unique FINAL_QUANTITY values each group has since Groups with more than one unique 'FINAL_QUANTITY' is 11066\n",
    "quantity_unique_count = (\n",
    "    df.groupby([\"RECEIPT_ID\", \"BARCODE\"])[\"FINAL_QUANTITY\"]\n",
    "      .nunique(dropna=False)\n",
    "      .reset_index(name=\"unique_final_quantity_count\")\n",
    ")\n",
    "print(\"Distribution of the number of unique FINAL_QUANTITY values:\")\n",
    "print(quantity_unique_count[\"unique_final_quantity_count\"].value_counts().sort_index())"
   ]
  },
  {
   "cell_type": "code",
   "execution_count": 16,
   "id": "65cd1902-5cc1-4628-aac6-febad08618d5",
   "metadata": {},
   "outputs": [
    {
     "name": "stdout",
     "output_type": "stream",
     "text": [
      "Number of (RECEIPT_ID, BARCODE) pairs with exactly 2 rows & 2 unique FINAL_SALE values: 12306\n"
     ]
    }
   ],
   "source": [
    "# Merge group_sizes and sale_unique_count so we can filter them together\n",
    "analysis_df = pd.merge(group_sizes, sale_unique_count, on=[\"RECEIPT_ID\", \"BARCODE\"], how=\"left\")\n",
    "\n",
    "# Filter to only the pairs with 2 rows and 2 unique FINAL_SALE values\n",
    "ideal_pairs = analysis_df[(analysis_df[\"count\"] == 2) & (analysis_df[\"unique_final_sale_count\"] == 2)]\n",
    "\n",
    "print(\"Number of (RECEIPT_ID, BARCODE) pairs with exactly 2 rows & 2 unique FINAL_SALE values:\", \n",
    "      ideal_pairs.shape[0])"
   ]
  },
  {
   "cell_type": "code",
   "execution_count": 17,
   "id": "f94efa58-ffa0-4f2e-a84a-bcea54a63c86",
   "metadata": {},
   "outputs": [
    {
     "name": "stdout",
     "output_type": "stream",
     "text": [
      "Number of (RECEIPT_ID, BARCODE) pairs with exactly 2 rows & 2 unique FINAL_QUANTITY values: 12309\n"
     ]
    }
   ],
   "source": [
    "# Merge group_sizes and sale_unique_count so we can filter them together\n",
    "quantity_analysis_df = pd.merge(group_sizes, quantity_unique_count, on=[\"RECEIPT_ID\", \"BARCODE\"], how=\"left\")\n",
    "\n",
    "# Filter to only the pairs with 2 rows and 2 unique FINAL_SALE values\n",
    "ideal_pairs = quantity_analysis_df[(quantity_analysis_df[\"count\"] == 2) & (quantity_analysis_df[\"unique_final_quantity_count\"] == 2)]\n",
    "\n",
    "print(\"Number of (RECEIPT_ID, BARCODE) pairs with exactly 2 rows & 2 unique FINAL_QUANTITY values:\", \n",
    "      ideal_pairs.shape[0])"
   ]
  },
  {
   "cell_type": "code",
   "execution_count": 18,
   "id": "06349683-2644-4b30-8086-96520f7fbc4d",
   "metadata": {},
   "outputs": [
    {
     "data": {
      "text/plain": [
       "(37500, 8)"
      ]
     },
     "execution_count": 18,
     "metadata": {},
     "output_type": "execute_result"
    }
   ],
   "source": [
    "# Drop rows where 'FINAL_QUANTITY' is zero and 'FINAL_SALE' is blank\n",
    "df_transaction1 = df[df['FINAL_QUANTITY'] != 'zero']\n",
    "df_transaction1.shape"
   ]
  },
  {
   "cell_type": "code",
   "execution_count": 19,
   "id": "78a556c8-5417-4af0-a1cf-7c09bbab2dfd",
   "metadata": {},
   "outputs": [],
   "source": [
    "df_transaction2 = df_transaction1[df_transaction1['FINAL_SALE'] != ' ']\n",
    "transaction_df = df_transaction2.copy()"
   ]
  },
  {
   "cell_type": "code",
   "execution_count": 20,
   "id": "caee9f02-d0e3-46af-ad64-67d6c0b6baa6",
   "metadata": {},
   "outputs": [
    {
     "data": {
      "text/html": [
       "<div>\n",
       "<style scoped>\n",
       "    .dataframe tbody tr th:only-of-type {\n",
       "        vertical-align: middle;\n",
       "    }\n",
       "\n",
       "    .dataframe tbody tr th {\n",
       "        vertical-align: top;\n",
       "    }\n",
       "\n",
       "    .dataframe thead th {\n",
       "        text-align: right;\n",
       "    }\n",
       "</style>\n",
       "<table border=\"1\" class=\"dataframe\">\n",
       "  <thead>\n",
       "    <tr style=\"text-align: right;\">\n",
       "      <th></th>\n",
       "      <th>RECEIPT_ID</th>\n",
       "      <th>PURCHASE_DATE</th>\n",
       "      <th>SCAN_DATE</th>\n",
       "      <th>STORE_NAME</th>\n",
       "      <th>USER_ID</th>\n",
       "      <th>BARCODE</th>\n",
       "      <th>FINAL_QUANTITY</th>\n",
       "      <th>FINAL_SALE</th>\n",
       "    </tr>\n",
       "  </thead>\n",
       "  <tbody>\n",
       "    <tr>\n",
       "      <th>25000</th>\n",
       "      <td>7b3ec72d-9d30-40b8-b185-0bfb638942a9</td>\n",
       "      <td>2024-08-20</td>\n",
       "      <td>2024-08-20 11:17:29.633 Z</td>\n",
       "      <td>DOLLAR GENERAL STORE</td>\n",
       "      <td>60fc1e6deb7585430ff52ee7</td>\n",
       "      <td>745527114884.0</td>\n",
       "      <td>1.00</td>\n",
       "      <td>1.65</td>\n",
       "    </tr>\n",
       "    <tr>\n",
       "      <th>25001</th>\n",
       "      <td>04869b68-29e3-4e8d-9bdb-950046fc3473</td>\n",
       "      <td>2024-08-05</td>\n",
       "      <td>2024-08-09 16:06:00.570 Z</td>\n",
       "      <td>DOLLAR GENERAL STORE</td>\n",
       "      <td>654cf234a225ea102b81072e</td>\n",
       "      <td>745527114884.0</td>\n",
       "      <td>1.00</td>\n",
       "      <td>1.65</td>\n",
       "    </tr>\n",
       "    <tr>\n",
       "      <th>25002</th>\n",
       "      <td>f1a96308-24a5-46a8-8d8c-285cf9dce1ba</td>\n",
       "      <td>2024-09-03</td>\n",
       "      <td>2024-09-03 11:28:25.264 Z</td>\n",
       "      <td>WALMART</td>\n",
       "      <td>63c1cb6d3d310dceeac55487</td>\n",
       "      <td>37000828761.0</td>\n",
       "      <td>1.00</td>\n",
       "      <td>28.22</td>\n",
       "    </tr>\n",
       "    <tr>\n",
       "      <th>25003</th>\n",
       "      <td>7ee1798e-fd2e-4278-838b-f417fdcafe08</td>\n",
       "      <td>2024-08-30</td>\n",
       "      <td>2024-09-04 12:53:31.478 Z</td>\n",
       "      <td>DOLLAR GENERAL STORE</td>\n",
       "      <td>65c29b137050d0a6206cd24f</td>\n",
       "      <td>12000504051.0</td>\n",
       "      <td>1.00</td>\n",
       "      <td>5.25</td>\n",
       "    </tr>\n",
       "    <tr>\n",
       "      <th>25004</th>\n",
       "      <td>21feab39-49f2-42e9-ae69-10371e2fc0a9</td>\n",
       "      <td>2024-08-23</td>\n",
       "      <td>2024-08-27 10:45:00.125 Z</td>\n",
       "      <td>TARGET</td>\n",
       "      <td>61a58ac49c135b462ccddd1c</td>\n",
       "      <td>24000393429.0</td>\n",
       "      <td>1.00</td>\n",
       "      <td>2.59</td>\n",
       "    </tr>\n",
       "  </tbody>\n",
       "</table>\n",
       "</div>"
      ],
      "text/plain": [
       "                                 RECEIPT_ID PURCHASE_DATE  \\\n",
       "25000  7b3ec72d-9d30-40b8-b185-0bfb638942a9    2024-08-20   \n",
       "25001  04869b68-29e3-4e8d-9bdb-950046fc3473    2024-08-05   \n",
       "25002  f1a96308-24a5-46a8-8d8c-285cf9dce1ba    2024-09-03   \n",
       "25003  7ee1798e-fd2e-4278-838b-f417fdcafe08    2024-08-30   \n",
       "25004  21feab39-49f2-42e9-ae69-10371e2fc0a9    2024-08-23   \n",
       "\n",
       "                       SCAN_DATE            STORE_NAME  \\\n",
       "25000  2024-08-20 11:17:29.633 Z  DOLLAR GENERAL STORE   \n",
       "25001  2024-08-09 16:06:00.570 Z  DOLLAR GENERAL STORE   \n",
       "25002  2024-09-03 11:28:25.264 Z               WALMART   \n",
       "25003  2024-09-04 12:53:31.478 Z  DOLLAR GENERAL STORE   \n",
       "25004  2024-08-27 10:45:00.125 Z                TARGET   \n",
       "\n",
       "                        USER_ID         BARCODE FINAL_QUANTITY FINAL_SALE  \n",
       "25000  60fc1e6deb7585430ff52ee7  745527114884.0           1.00       1.65  \n",
       "25001  654cf234a225ea102b81072e  745527114884.0           1.00       1.65  \n",
       "25002  63c1cb6d3d310dceeac55487   37000828761.0           1.00      28.22  \n",
       "25003  65c29b137050d0a6206cd24f   12000504051.0           1.00       5.25  \n",
       "25004  61a58ac49c135b462ccddd1c   24000393429.0           1.00       2.59  "
      ]
     },
     "execution_count": 20,
     "metadata": {},
     "output_type": "execute_result"
    }
   ],
   "source": [
    "transaction_df.head()"
   ]
  },
  {
   "cell_type": "code",
   "execution_count": 21,
   "id": "bafd3f68-1297-4eba-8249-5a67b954fdde",
   "metadata": {},
   "outputs": [],
   "source": [
    "# df_transaction2 = df_transaction2.copy()\n",
    "\n",
    "# df_transaction2['PURCHASE_DATE'] = pd.to_datetime(\n",
    "#     df_transaction2['PURCHASE_DATE'], errors='coerce'\n",
    "# ).dt.tz_localize(None)\n",
    "\n",
    "# df_transaction2['SCAN_DATE'] = pd.to_datetime(\n",
    "#     df_transaction2['SCAN_DATE'], errors='coerce'\n",
    "# ).dt.tz_localize(None)"
   ]
  },
  {
   "cell_type": "markdown",
   "id": "1cf0eafc-c2e4-4c51-80b4-1685b694da9f",
   "metadata": {},
   "source": [
    "To ensure data integrity, we need to confirm that all Receipt ID and Barcode combinations remain intact after cleaning."
   ]
  },
  {
   "cell_type": "code",
   "execution_count": 22,
   "id": "46770ff1-a44e-4765-ba4d-13c7c488890a",
   "metadata": {},
   "outputs": [
    {
     "name": "stdout",
     "output_type": "stream",
     "text": [
      "All unique (RECEIPT_ID, BARCODE) combos from the original data are present in the cleaned data.\n"
     ]
    }
   ],
   "source": [
    "# 1) Extract unique (RECEIPT_ID, BARCODE) pairs from the original data\n",
    "unique_orig = df[['RECEIPT_ID', 'BARCODE']].drop_duplicates()\n",
    "\n",
    "# 2) Extract unique (RECEIPT_ID, BARCODE) pairs from the cleaned data\n",
    "unique_clean = transaction_df[['RECEIPT_ID', 'BARCODE']].drop_duplicates()\n",
    "\n",
    "# 3) Merge the two DataFrames using a left join, and track matches with an indicator column\n",
    "merged = pd.merge(unique_orig, \n",
    "                  unique_clean, \n",
    "                  on=['RECEIPT_ID', 'BARCODE'], \n",
    "                  how='left', \n",
    "                  indicator=True)\n",
    "\n",
    "# 4) Any row with '_merge' == 'left_only' indicates a (RECEIPT_ID, BARCODE) pair\n",
    "#    from the original data that's missing in the cleaned data\n",
    "missing_rows = merged[merged['_merge'] == 'left_only']\n",
    "\n",
    "if missing_rows.empty:\n",
    "    print(\"All unique (RECEIPT_ID, BARCODE) combos from the original data are present in the cleaned data.\")\n",
    "else:\n",
    "    print(\"Some combos from the original data are missing in the cleaned data. Details:\")\n",
    "    display(missing_rows)"
   ]
  },
  {
   "cell_type": "code",
   "execution_count": 23,
   "id": "a9bb2c12-592b-4c67-8c60-f3a488f55a47",
   "metadata": {},
   "outputs": [],
   "source": [
    "# df_transaction2.to_csv(\"TRANSACTION_CLEANED.csv\", index=False)"
   ]
  },
  {
   "cell_type": "markdown",
   "id": "e5a5d27e-3d4d-4c05-8913-63ff51454204",
   "metadata": {},
   "source": [
    "### Standardizing Barcodes for Consistency\n",
    "To ensure accurate mapping between transactions and product details, we need to standardize barcodes across both datasets. Differences in data types, missing leading zeros, or inconsistent formatting may cause mismatches."
   ]
  },
  {
   "cell_type": "code",
   "execution_count": 24,
   "id": "f48005fd-b7ee-4755-bd3c-2eae4c5c4031",
   "metadata": {},
   "outputs": [],
   "source": [
    "products_df = pd.read_csv(\"PRODUCTS_TAKEHOME.csv\")\n",
    "\n",
    "# Convert barcode column to string format\n",
    "transaction_df['BARCODE'] = transaction_df['BARCODE'].astype(str)\n",
    "products_df['BARCODE'] = products_df['BARCODE'].astype(str)"
   ]
  },
  {
   "cell_type": "code",
   "execution_count": 25,
   "id": "a758be77-e435-42ae-a065-16a7221d652e",
   "metadata": {},
   "outputs": [
    {
     "data": {
      "text/html": [
       "<div>\n",
       "<style scoped>\n",
       "    .dataframe tbody tr th:only-of-type {\n",
       "        vertical-align: middle;\n",
       "    }\n",
       "\n",
       "    .dataframe tbody tr th {\n",
       "        vertical-align: top;\n",
       "    }\n",
       "\n",
       "    .dataframe thead th {\n",
       "        text-align: right;\n",
       "    }\n",
       "</style>\n",
       "<table border=\"1\" class=\"dataframe\">\n",
       "  <thead>\n",
       "    <tr style=\"text-align: right;\">\n",
       "      <th></th>\n",
       "      <th>RECEIPT_ID</th>\n",
       "      <th>PURCHASE_DATE</th>\n",
       "      <th>SCAN_DATE</th>\n",
       "      <th>STORE_NAME</th>\n",
       "      <th>USER_ID</th>\n",
       "      <th>BARCODE</th>\n",
       "      <th>FINAL_QUANTITY</th>\n",
       "      <th>FINAL_SALE</th>\n",
       "    </tr>\n",
       "  </thead>\n",
       "  <tbody>\n",
       "    <tr>\n",
       "      <th>25000</th>\n",
       "      <td>7b3ec72d-9d30-40b8-b185-0bfb638942a9</td>\n",
       "      <td>2024-08-20</td>\n",
       "      <td>2024-08-20 11:17:29.633 Z</td>\n",
       "      <td>DOLLAR GENERAL STORE</td>\n",
       "      <td>60fc1e6deb7585430ff52ee7</td>\n",
       "      <td>745527114884.0</td>\n",
       "      <td>1.00</td>\n",
       "      <td>1.65</td>\n",
       "    </tr>\n",
       "    <tr>\n",
       "      <th>25001</th>\n",
       "      <td>04869b68-29e3-4e8d-9bdb-950046fc3473</td>\n",
       "      <td>2024-08-05</td>\n",
       "      <td>2024-08-09 16:06:00.570 Z</td>\n",
       "      <td>DOLLAR GENERAL STORE</td>\n",
       "      <td>654cf234a225ea102b81072e</td>\n",
       "      <td>745527114884.0</td>\n",
       "      <td>1.00</td>\n",
       "      <td>1.65</td>\n",
       "    </tr>\n",
       "    <tr>\n",
       "      <th>25002</th>\n",
       "      <td>f1a96308-24a5-46a8-8d8c-285cf9dce1ba</td>\n",
       "      <td>2024-09-03</td>\n",
       "      <td>2024-09-03 11:28:25.264 Z</td>\n",
       "      <td>WALMART</td>\n",
       "      <td>63c1cb6d3d310dceeac55487</td>\n",
       "      <td>37000828761.0</td>\n",
       "      <td>1.00</td>\n",
       "      <td>28.22</td>\n",
       "    </tr>\n",
       "    <tr>\n",
       "      <th>25003</th>\n",
       "      <td>7ee1798e-fd2e-4278-838b-f417fdcafe08</td>\n",
       "      <td>2024-08-30</td>\n",
       "      <td>2024-09-04 12:53:31.478 Z</td>\n",
       "      <td>DOLLAR GENERAL STORE</td>\n",
       "      <td>65c29b137050d0a6206cd24f</td>\n",
       "      <td>12000504051.0</td>\n",
       "      <td>1.00</td>\n",
       "      <td>5.25</td>\n",
       "    </tr>\n",
       "    <tr>\n",
       "      <th>25004</th>\n",
       "      <td>21feab39-49f2-42e9-ae69-10371e2fc0a9</td>\n",
       "      <td>2024-08-23</td>\n",
       "      <td>2024-08-27 10:45:00.125 Z</td>\n",
       "      <td>TARGET</td>\n",
       "      <td>61a58ac49c135b462ccddd1c</td>\n",
       "      <td>24000393429.0</td>\n",
       "      <td>1.00</td>\n",
       "      <td>2.59</td>\n",
       "    </tr>\n",
       "  </tbody>\n",
       "</table>\n",
       "</div>"
      ],
      "text/plain": [
       "                                 RECEIPT_ID PURCHASE_DATE  \\\n",
       "25000  7b3ec72d-9d30-40b8-b185-0bfb638942a9    2024-08-20   \n",
       "25001  04869b68-29e3-4e8d-9bdb-950046fc3473    2024-08-05   \n",
       "25002  f1a96308-24a5-46a8-8d8c-285cf9dce1ba    2024-09-03   \n",
       "25003  7ee1798e-fd2e-4278-838b-f417fdcafe08    2024-08-30   \n",
       "25004  21feab39-49f2-42e9-ae69-10371e2fc0a9    2024-08-23   \n",
       "\n",
       "                       SCAN_DATE            STORE_NAME  \\\n",
       "25000  2024-08-20 11:17:29.633 Z  DOLLAR GENERAL STORE   \n",
       "25001  2024-08-09 16:06:00.570 Z  DOLLAR GENERAL STORE   \n",
       "25002  2024-09-03 11:28:25.264 Z               WALMART   \n",
       "25003  2024-09-04 12:53:31.478 Z  DOLLAR GENERAL STORE   \n",
       "25004  2024-08-27 10:45:00.125 Z                TARGET   \n",
       "\n",
       "                        USER_ID         BARCODE FINAL_QUANTITY FINAL_SALE  \n",
       "25000  60fc1e6deb7585430ff52ee7  745527114884.0           1.00       1.65  \n",
       "25001  654cf234a225ea102b81072e  745527114884.0           1.00       1.65  \n",
       "25002  63c1cb6d3d310dceeac55487   37000828761.0           1.00      28.22  \n",
       "25003  65c29b137050d0a6206cd24f   12000504051.0           1.00       5.25  \n",
       "25004  61a58ac49c135b462ccddd1c   24000393429.0           1.00       2.59  "
      ]
     },
     "execution_count": 25,
     "metadata": {},
     "output_type": "execute_result"
    }
   ],
   "source": [
    "transaction_df.head()"
   ]
  },
  {
   "cell_type": "code",
   "execution_count": 26,
   "id": "6c11148b-9d2f-418e-962d-d8ea886fb1fd",
   "metadata": {},
   "outputs": [
    {
     "data": {
      "text/html": [
       "<div>\n",
       "<style scoped>\n",
       "    .dataframe tbody tr th:only-of-type {\n",
       "        vertical-align: middle;\n",
       "    }\n",
       "\n",
       "    .dataframe tbody tr th {\n",
       "        vertical-align: top;\n",
       "    }\n",
       "\n",
       "    .dataframe thead th {\n",
       "        text-align: right;\n",
       "    }\n",
       "</style>\n",
       "<table border=\"1\" class=\"dataframe\">\n",
       "  <thead>\n",
       "    <tr style=\"text-align: right;\">\n",
       "      <th></th>\n",
       "      <th>CATEGORY_1</th>\n",
       "      <th>CATEGORY_2</th>\n",
       "      <th>CATEGORY_3</th>\n",
       "      <th>CATEGORY_4</th>\n",
       "      <th>MANUFACTURER</th>\n",
       "      <th>BRAND</th>\n",
       "      <th>BARCODE</th>\n",
       "    </tr>\n",
       "  </thead>\n",
       "  <tbody>\n",
       "    <tr>\n",
       "      <th>0</th>\n",
       "      <td>Health &amp; Wellness</td>\n",
       "      <td>Sexual Health</td>\n",
       "      <td>Conductivity Gels &amp; Lotions</td>\n",
       "      <td>NaN</td>\n",
       "      <td>NaN</td>\n",
       "      <td>NaN</td>\n",
       "      <td>796494407820.0</td>\n",
       "    </tr>\n",
       "    <tr>\n",
       "      <th>1</th>\n",
       "      <td>Snacks</td>\n",
       "      <td>Puffed Snacks</td>\n",
       "      <td>Cheese Curls &amp; Puffs</td>\n",
       "      <td>NaN</td>\n",
       "      <td>NaN</td>\n",
       "      <td>NaN</td>\n",
       "      <td>23278011028.0</td>\n",
       "    </tr>\n",
       "    <tr>\n",
       "      <th>2</th>\n",
       "      <td>Health &amp; Wellness</td>\n",
       "      <td>Hair Care</td>\n",
       "      <td>Hair Care Accessories</td>\n",
       "      <td>NaN</td>\n",
       "      <td>PLACEHOLDER MANUFACTURER</td>\n",
       "      <td>ELECSOP</td>\n",
       "      <td>461817824225.0</td>\n",
       "    </tr>\n",
       "    <tr>\n",
       "      <th>3</th>\n",
       "      <td>Health &amp; Wellness</td>\n",
       "      <td>Oral Care</td>\n",
       "      <td>Toothpaste</td>\n",
       "      <td>NaN</td>\n",
       "      <td>COLGATE-PALMOLIVE</td>\n",
       "      <td>COLGATE</td>\n",
       "      <td>35000466815.0</td>\n",
       "    </tr>\n",
       "    <tr>\n",
       "      <th>4</th>\n",
       "      <td>Health &amp; Wellness</td>\n",
       "      <td>Medicines &amp; Treatments</td>\n",
       "      <td>Essential Oils</td>\n",
       "      <td>NaN</td>\n",
       "      <td>MAPLE HOLISTICS AND HONEYDEW PRODUCTS INTERCHA...</td>\n",
       "      <td>MAPLE HOLISTICS</td>\n",
       "      <td>806810850459.0</td>\n",
       "    </tr>\n",
       "  </tbody>\n",
       "</table>\n",
       "</div>"
      ],
      "text/plain": [
       "          CATEGORY_1              CATEGORY_2                   CATEGORY_3  \\\n",
       "0  Health & Wellness           Sexual Health  Conductivity Gels & Lotions   \n",
       "1             Snacks           Puffed Snacks         Cheese Curls & Puffs   \n",
       "2  Health & Wellness               Hair Care        Hair Care Accessories   \n",
       "3  Health & Wellness               Oral Care                   Toothpaste   \n",
       "4  Health & Wellness  Medicines & Treatments               Essential Oils   \n",
       "\n",
       "  CATEGORY_4                                       MANUFACTURER  \\\n",
       "0        NaN                                                NaN   \n",
       "1        NaN                                                NaN   \n",
       "2        NaN                           PLACEHOLDER MANUFACTURER   \n",
       "3        NaN                                  COLGATE-PALMOLIVE   \n",
       "4        NaN  MAPLE HOLISTICS AND HONEYDEW PRODUCTS INTERCHA...   \n",
       "\n",
       "             BRAND         BARCODE  \n",
       "0              NaN  796494407820.0  \n",
       "1              NaN   23278011028.0  \n",
       "2          ELECSOP  461817824225.0  \n",
       "3          COLGATE   35000466815.0  \n",
       "4  MAPLE HOLISTICS  806810850459.0  "
      ]
     },
     "execution_count": 26,
     "metadata": {},
     "output_type": "execute_result"
    }
   ],
   "source": [
    "products_df.head()"
   ]
  },
  {
   "cell_type": "code",
   "execution_count": 27,
   "id": "514360bc-1b6f-45bd-9781-cdc320f36f8f",
   "metadata": {},
   "outputs": [
    {
     "name": "stdout",
     "output_type": "stream",
     "text": [
      "BARCODE\n",
      "13    16344\n",
      "14     5271\n",
      "20     2881\n",
      "12      158\n",
      "7       125\n",
      "9        75\n",
      "10       75\n",
      "15       43\n",
      "8        20\n",
      "4         4\n",
      "11        2\n",
      "6         2\n",
      "Name: count, dtype: int64\n",
      "BARCODE\n",
      "14    502091\n",
      "13    296376\n",
      "15     30144\n",
      "12      7591\n",
      "3       4025\n",
      "10      1907\n",
      "11      1762\n",
      "9        950\n",
      "8        570\n",
      "7         83\n",
      "16        44\n",
      "6          8\n",
      "5          1\n",
      "Name: count, dtype: int64\n"
     ]
    }
   ],
   "source": [
    "# Check barcode lengths in both datasets\n",
    "print(transaction_df['BARCODE'].str.len().value_counts())\n",
    "print(products_df['BARCODE'].str.len().value_counts())"
   ]
  },
  {
   "cell_type": "code",
   "execution_count": 40,
   "id": "816c7369-c680-4e7a-91d2-5ea43fbb7626",
   "metadata": {},
   "outputs": [],
   "source": [
    "# Ensure all barcodes are 13 characters long by padding with leading zeros\n",
    "transaction_df['BARCODE'] = transaction_df['BARCODE'].str.zfill(13)\n",
    "products_df['BARCODE'] = products_df['BARCODE'].str.zfill(13)"
   ]
  },
  {
   "cell_type": "code",
   "execution_count": 41,
   "id": "ed190319-1ce1-4b5f-ba3e-18f0773ccc48",
   "metadata": {},
   "outputs": [],
   "source": [
    "# Strip spaces and remove any unexpected characters\n",
    "transaction_df['BARCODE'] = transaction_df['BARCODE'].str.strip()\n",
    "products_df['BARCODE'] = products_df['BARCODE'].str.strip()"
   ]
  },
  {
   "cell_type": "code",
   "execution_count": 42,
   "id": "b88e50fc-0a3b-4772-89c2-29dbaea19438",
   "metadata": {},
   "outputs": [
    {
     "name": "stdout",
     "output_type": "stream",
     "text": [
      "BARCODE\n",
      "13    16805\n",
      "14     5271\n",
      "20     2881\n",
      "15       43\n",
      "Name: count, dtype: int64\n",
      "BARCODE\n",
      "14    815364\n",
      "15     30144\n",
      "16        44\n",
      "Name: count, dtype: int64\n"
     ]
    }
   ],
   "source": [
    "# Check barcode lengths in both datasets\n",
    "print(transaction_df['BARCODE'].str.len().value_counts())\n",
    "print(products_df['BARCODE'].str.len().value_counts())"
   ]
  },
  {
   "cell_type": "code",
   "execution_count": 43,
   "id": "bcd92b5a-d1dc-4dbd-b8df-043e49250c8e",
   "metadata": {},
   "outputs": [
    {
     "name": "stdout",
     "output_type": "stream",
     "text": [
      "Number of barcodes in transactions not found in products: 2\n",
      "Sample missing barcodes: [nan 'NO_BARCODE_AVAILABLE']\n"
     ]
    }
   ],
   "source": [
    "# Find barcodes in transactions that are missing in products\n",
    "missing_barcodes = df_transaction2[~df_transaction2['BARCODE'].isin(products_df['BARCODE'])]['BARCODE'].unique()\n",
    "\n",
    "print(f\"Number of barcodes in transactions not found in products: {len(missing_barcodes)}\")\n",
    "if len(missing_barcodes) > 0:\n",
    "    print(\"Sample missing barcodes:\", missing_barcodes[:10])"
   ]
  },
  {
   "cell_type": "code",
   "execution_count": 44,
   "id": "330e936e-a91e-4f01-81ca-b8ebbc8e6523",
   "metadata": {},
   "outputs": [
    {
     "name": "stdout",
     "output_type": "stream",
     "text": [
      "Number of barcodes in products not found in transactions: 841343\n",
      "Sample missing barcodes: ['796494407820.0' '023278011028.0' '461817824225.0' '035000466815.0'\n",
      " '806810850459.0' '662658519183.0' '617737584217.0' '7501839106268.0'\n",
      " '075450128345.0' '00000000000nan']\n"
     ]
    }
   ],
   "source": [
    "# Find barcodes in products that are missing in transactions\n",
    "missing_product_barcodes = products_df[~products_df['BARCODE'].isin(df_transaction2['BARCODE'])]['BARCODE'].unique()\n",
    "\n",
    "print(f\"Number of barcodes in products not found in transactions: {len(missing_product_barcodes)}\")\n",
    "if len(missing_product_barcodes) > 0:\n",
    "    print(\"Sample missing barcodes:\", missing_product_barcodes[:10])"
   ]
  },
  {
   "cell_type": "markdown",
   "id": "de1efb0e-9bf7-463e-aa6e-8da4e6810d68",
   "metadata": {},
   "source": [
    "## **Issue: Barcode Length Inconsistencies**\n",
    "\n",
    "During our analysis, we found that barcodes in the transactions and products datasets have **inconsistent lengths**, leading to mismatches when trying to link them. The **maximum barcode length observed is 14 characters**, meaning some barcodes might be missing leading zeros or have formatting inconsistencies.\n",
    "\n",
    "### **Identified Problems**\n",
    "- Barcodes in the transactions dataset vary in length.\n",
    "- Barcodes in the products dataset also have varying lengths.\n",
    "- Some barcodes may be missing due to these inconsistencies, affecting data integrity.\n",
    "\n",
    "## **Solution: Standardizing Barcode Length**\n",
    "To resolve this issue, we will:\n",
    "1. **Convert all barcodes to strings** to maintain consistency across both datasets.\n",
    "2. **Standardize all barcodes to 14 characters** by **padding shorter barcodes with leading zeros**.\n",
    "3. **Revalidate missing barcodes after standardization** to check if mismatches are resolved.\n",
    "\n",
    "By ensuring all barcodes follow the same format, we can correctly link transactions to products and improve data accuracy."
   ]
  },
  {
   "cell_type": "code",
   "execution_count": 45,
   "id": "864aeeda-b603-4a6e-98c2-fc950ddb548f",
   "metadata": {},
   "outputs": [],
   "source": [
    "# Padding barcodes with leading zeros to ensure they are all 14 characters long since 14 was the longest in our observation\n",
    "transaction_df['BARCODE'] = transaction_df['BARCODE'].str.zfill(14)\n",
    "products_df['BARCODE'] = products_df['BARCODE'].str.zfill(14)"
   ]
  },
  {
   "cell_type": "code",
   "execution_count": 48,
   "id": "f945f6cd-d043-4716-a080-41a102ebcf07",
   "metadata": {},
   "outputs": [
    {
     "name": "stdout",
     "output_type": "stream",
     "text": [
      "Total unique barcodes in transactions: 11028\n",
      "Number of matched barcodes in products: 6562\n",
      "Percentage of matched barcodes: 59.50%\n"
     ]
    }
   ],
   "source": [
    "# Counting barcodes in transactions that are found in the products dataset\n",
    "matched_barcodes = transaction_df[transaction_df['BARCODE'].isin(products_df['BARCODE'])]['BARCODE'].nunique()\n",
    "total_barcodes = transaction_df['BARCODE'].nunique()\n",
    "\n",
    "# Calculate the percentage of matched barcodes\n",
    "match_percentage = (matched_barcodes / total_barcodes) * 100\n",
    "\n",
    "print(f\"Total unique barcodes in transactions: {total_barcodes}\")\n",
    "print(f\"Number of matched barcodes in products: {matched_barcodes}\")\n",
    "print(f\"Percentage of matched barcodes: {match_percentage:.2f}%\")"
   ]
  },
  {
   "cell_type": "markdown",
   "id": "58c4dffb-6590-477e-8f55-c6c0f38685cd",
   "metadata": {},
   "source": [
    "Only 59.50% of transaction barcodes match with the products dataset, indicating possible formatting inconsistencies or missing product records. This mismatch could impact product-level analysis"
   ]
  },
  {
   "cell_type": "markdown",
   "id": "6e1e9c8d-26ef-4a4a-ab18-2bbc38d046af",
   "metadata": {},
   "source": [
    "# Now let's check matching with the USER data"
   ]
  },
  {
   "cell_type": "code",
   "execution_count": 49,
   "id": "f68d5814-15ba-47e1-b0ef-813587deaa77",
   "metadata": {},
   "outputs": [
    {
     "name": "stdout",
     "output_type": "stream",
     "text": [
      "Total unique USER_IDs in transactions: 17694\n",
      "Number of USER_IDs not present in the users table: 17603\n",
      "Percentage of missing USER_IDs: 99.49%\n",
      "Number of matched USER_IDs: 91\n",
      "Percentage of matched USER_IDs: 0.51%\n"
     ]
    }
   ],
   "source": [
    "df_users = pd.read_csv(\"Updated_Datasets/USER_CLEANED.csv\")\n",
    "\n",
    "missing_ids_raw = set(transaction_df['USER_ID']) - set(df_users['ID'])\n",
    "\n",
    "# Calculating the total unique USER_IDs in transactions\n",
    "total_trans_ids = transaction_df['USER_ID'].nunique()\n",
    "\n",
    "# Determining the number of matched USER_IDs by subtracting missing from total\n",
    "matched_ids_raw = total_trans_ids - len(missing_ids_raw)\n",
    "\n",
    "# Percentages\n",
    "missing_percentage = (len(missing_ids_raw) / total_trans_ids) * 100\n",
    "matched_percentage = (matched_ids_raw / total_trans_ids) * 100\n",
    "\n",
    "print(\"Total unique USER_IDs in transactions:\", total_trans_ids)\n",
    "print(\"Number of USER_IDs not present in the users table:\", len(missing_ids_raw))\n",
    "print(\"Percentage of missing USER_IDs: {:.2f}%\".format(missing_percentage))\n",
    "print(\"Number of matched USER_IDs:\", matched_ids_raw)\n",
    "print(\"Percentage of matched USER_IDs: {:.2f}%\".format(matched_percentage))"
   ]
  },
  {
   "cell_type": "markdown",
   "id": "d5a1c651-300d-444c-9bec-f1027ae02a45",
   "metadata": {},
   "source": [
    "USER_ID Matching Analysis Summary\n",
    "\n",
    "Only **0.51% of USER_IDs from transactions match with the users database**, indicating a substantial data linkage issue likely due to inconsistencies in USER_ID recording or a mismatch in the datasets' scopes."
   ]
  },
  {
   "cell_type": "code",
   "execution_count": 50,
   "id": "bb40e524-351c-4400-8720-f931033df663",
   "metadata": {},
   "outputs": [
    {
     "data": {
      "text/plain": [
       "(845552, 7)"
      ]
     },
     "execution_count": 50,
     "metadata": {},
     "output_type": "execute_result"
    }
   ],
   "source": [
    "products_df.shape"
   ]
  },
  {
   "cell_type": "code",
   "execution_count": 51,
   "id": "525b1645-e1d3-4c3c-ad80-e1f1e85afda5",
   "metadata": {},
   "outputs": [
    {
     "data": {
      "text/plain": [
       "(25000, 8)"
      ]
     },
     "execution_count": 51,
     "metadata": {},
     "output_type": "execute_result"
    }
   ],
   "source": [
    "transaction_df.shape"
   ]
  },
  {
   "cell_type": "code",
   "execution_count": 52,
   "id": "fa6f72c0-8438-4df4-82a0-84e2c9527b90",
   "metadata": {},
   "outputs": [
    {
     "data": {
      "text/plain": [
       "CATEGORY_1      object\n",
       "CATEGORY_2      object\n",
       "CATEGORY_3      object\n",
       "CATEGORY_4      object\n",
       "MANUFACTURER    object\n",
       "BRAND           object\n",
       "BARCODE         object\n",
       "dtype: object"
      ]
     },
     "execution_count": 52,
     "metadata": {},
     "output_type": "execute_result"
    }
   ],
   "source": [
    "products_df.dtypes"
   ]
  },
  {
   "cell_type": "code",
   "execution_count": 53,
   "id": "aebd350a-fabd-429f-a6c9-d781e7b49286",
   "metadata": {},
   "outputs": [],
   "source": [
    "transaction_df.to_csv(\"Updated_Datasets/TRANSACTION_CLEANED.csv\", index=False)\n",
    "products_df.to_csv(\"Updated_Datasets/PRODUCTS_CLEANED.csv\", index=False)"
   ]
  },
  {
   "cell_type": "code",
   "execution_count": null,
   "id": "1ad6d6e7-49f5-4e7e-8360-e9fa863e3a7f",
   "metadata": {},
   "outputs": [],
   "source": []
  }
 ],
 "metadata": {
  "kernelspec": {
   "display_name": "Python (env)",
   "language": "python",
   "name": "env"
  },
  "language_info": {
   "codemirror_mode": {
    "name": "ipython",
    "version": 3
   },
   "file_extension": ".py",
   "mimetype": "text/x-python",
   "name": "python",
   "nbconvert_exporter": "python",
   "pygments_lexer": "ipython3",
   "version": "3.12.6"
  }
 },
 "nbformat": 4,
 "nbformat_minor": 5
}
